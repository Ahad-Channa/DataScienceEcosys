{
  "metadata": {
    "kernelspec": {
      "name": "python",
      "display_name": "Python (Pyodide)",
      "language": "python"
    },
    "language_info": {
      "codemirror_mode": {
        "name": "python",
        "version": 3
      },
      "file_extension": ".py",
      "mimetype": "text/x-python",
      "name": "python",
      "nbconvert_exporter": "python",
      "pygments_lexer": "ipython3",
      "version": "3.8"
    }
  },
  "nbformat_minor": 5,
  "nbformat": 4,
  "cells": [
    {
      "id": "05fce2b5-49c9-4ebc-808c-42983ff951ba",
      "cell_type": "markdown",
      "source": "<h1>Data Science Tools and Ecosystem</h1>",
      "metadata": {},
      "attachments": {}
    },
    {
      "id": "1ff67b5f-1cc0-4825-ba89-f7651094e3d9",
      "cell_type": "markdown",
      "source": "In this notebook, Data Science Tools and Ecosystem are summarized.",
      "metadata": {},
      "attachments": {}
    },
    {
      "id": "bab6a344-803f-4b8f-b823-42ca2110f85a",
      "cell_type": "markdown",
      "source": "Some of the popular languages that Data Scientists use are:\n<ol>\n    <li>python</li>\n    <li>R</li>\n    <li>SQL</li>\n    <li>Scala</li>\n </ol>",
      "metadata": {}
    },
    {
      "id": "680c271b-9868-4622-bd63-f88dca9f7160",
      "cell_type": "markdown",
      "source": "Some of the commonly used libraries used by Data Scientists include:\n<ol>\n    <li>Numpay</li>\n    <li>Pandas</li>\n    <li>Keras</li>\n    <li>Scikit-learn</li>\n    <li>Seaborn</li>\n </ol>",
      "metadata": {}
    },
    {
      "id": "95b224cf-5269-4ba1-9a30-1b4042b95a84",
      "cell_type": "markdown",
      "source": "<table>\n    <tr>\n        <th>Data Science Tools</th>\n    </tr>\n    <tr>\n        <td>Jupyter Notebook</td>\n    </tr>\n    <tr>\n        <td>RStudio</td>\n    </tr>\n    <tr>\n        <td>Apache Zeppelin</td>\n    </tr>\n</table>",
      "metadata": {}
    },
    {
      "id": "c7e6aa6a-8f45-4408-96bc-9c300f02aeab",
      "cell_type": "markdown",
      "source": "<h3>Below are a few examples of evaluating arithmetic expressions in Python</h3>\n\nresult = 5 + 3  \nprint(result)  \n\nresult = 10 - 4  \nprint(result)  \n\nresult = 6 * 7  \nprint(result)  \n\nresult = 15 / 3  \nprint(result)  \n\nresult = 17 // 4  \nprint(result)  \n\nresult = 17 % 4  \nprint(result)  \n\nresult = 2 ** 3  \nprint(result)  \n\nexpr = \"5 + 3 * 2\"\nresult = eval(expr)\nprint(result)  \n\nimport math\n\nprint(math.sqrt(25))  \n\nprint(math.pow(2, 3))  \n\nprint(math.log(100, 10))  \n\nprint(math.sin(math.radians(30)))  \nprint(math.cos(math.radians(60)))  \nprint(math.tan(math.radians(45)))  \n\n",
      "metadata": {}
    },
    {
      "id": "e99594d6-e88f-45a9-9732-089ac7671606",
      "cell_type": "code",
      "source": "(3*4)+5\n#This a simple arithmetic expression to mutiply then add integers",
      "metadata": {
        "trusted": true
      },
      "outputs": [
        {
          "execution_count": 6,
          "output_type": "execute_result",
          "data": {
            "text/plain": "17"
          },
          "metadata": {}
        }
      ],
      "execution_count": 6
    },
    {
      "id": "148de45d-8ce1-4f6b-bf39-8f0b2314556d",
      "cell_type": "code",
      "source": "200 / 60\n#This will convert 200 minutes to hours by diving by 60",
      "metadata": {
        "trusted": true
      },
      "outputs": [
        {
          "execution_count": 7,
          "output_type": "execute_result",
          "data": {
            "text/plain": "3.3333333333333335"
          },
          "metadata": {}
        }
      ],
      "execution_count": 7
    },
    {
      "id": "b96bf475-43e4-4914-8ac5-1548926a58d6",
      "cell_type": "markdown",
      "source": "<b>Objectives:\n<ul>\n    <li>python</li>\n    <li>R</li>\n    <li>SQL</li>\n    <li>Scala</li>\n</ul>",
      "metadata": {}
    },
    {
      "id": "b2cac12c-9575-4895-80a7-74e9d1e4425e",
      "cell_type": "markdown",
      "source": "<h2>Author:</h2>\nAhad Channa",
      "metadata": {}
    }
  ]
}